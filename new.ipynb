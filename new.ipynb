{
 "cells": [
  {
   "cell_type": "code",
   "execution_count": 2,
   "metadata": {},
   "outputs": [],
   "source": [
    "import os\n",
    "from bs4 import BeautifulSoup as bs\n",
    "import pandas as pd\n",
    "import csv"
   ]
  },
  {
   "cell_type": "code",
   "execution_count": 3,
   "metadata": {},
   "outputs": [],
   "source": [
    "dictionary = {}\n",
    "df = pd.DataFrame.from_dict(dictionary, orient=\"index\")\n",
    "pathToDir = r'C:\\Users\\Ishrat Fatima\\Desktop\\court\\_Pagina_0-500\\_Pagina_0-500'\n",
    "arr = os.listdir(pathToDir)"
   ]
  },
  {
   "cell_type": "code",
   "execution_count": 4,
   "metadata": {},
   "outputs": [],
   "source": [
    "from html.parser import HTMLParser"
   ]
  },
  {
   "cell_type": "code",
   "execution_count": 1,
   "metadata": {},
   "outputs": [
    {
     "ename": "NameError",
     "evalue": "name 'pathToDir' is not defined",
     "output_type": "error",
     "traceback": [
      "\u001b[1;31m---------------------------------------------------------------------------\u001b[0m",
      "\u001b[1;31mNameError\u001b[0m                                 Traceback (most recent call last)",
      "Cell \u001b[1;32mIn [1], line 1\u001b[0m\n\u001b[1;32m----> 1\u001b[0m \u001b[39mfor\u001b[39;00m newFile \u001b[39min\u001b[39;00m os\u001b[39m.\u001b[39mlistdir(pathToDir):\n\u001b[0;32m      3\u001b[0m     fileName \u001b[39m=\u001b[39m os\u001b[39m.\u001b[39mpath\u001b[39m.\u001b[39mjoin(pathToDir, newFile)\n\u001b[0;32m      4\u001b[0m     \u001b[39m# create soup.\u001b[39;00m\n",
      "\u001b[1;31mNameError\u001b[0m: name 'pathToDir' is not defined"
     ]
    }
   ],
   "source": [
    "for newFile in os.listdir(pathToDir):\n",
    "\n",
    "    fileName = os.path.join(pathToDir, newFile)\n",
    "    # create soup.\n",
    "    fileNameOpen = open(fileName, encoding=\"utf8\")\n",
    "    soup = bs(fileNameOpen, 'html.parser')\n",
    "    try:\n",
    "        sentence = soup.find('span', {'class': 'contro'})\n",
    "        sentenceChild = sentence.contents\n",
    "        dictionary['Contro'] = sentenceChild\n",
    "    except:\n",
    "        pass\n",
    "    try:\n",
    "        pqm = soup.find('span', {'class': 'fatto'})\n",
    "        pqmName = pqm.next\n",
    "        dictionary['PQM'] = pqmName\n",
    "    except:\n",
    "        pass\n",
    "    df = pd.DataFrame.from_dict(dictionary, orient=\"index\")\n",
    "    outputFile = open('C:\\\\Users\\\\Ishrat Fatima\\\\Desktop\\\\court\\\\csv_files' + str(arr.index(newFile)) + \".csv\", \"w\")\n",
    "    df.to_csv(outputFile)\n",
    "    outputFile.close()\n",
    "    "
   ]
  },
  {
   "cell_type": "code",
   "execution_count": null,
   "metadata": {},
   "outputs": [],
   "source": []
  }
 ],
 "metadata": {
  "kernelspec": {
   "display_name": "Python 3.11.0 64-bit",
   "language": "python",
   "name": "python3"
  },
  "language_info": {
   "codemirror_mode": {
    "name": "ipython",
    "version": 3
   },
   "file_extension": ".py",
   "mimetype": "text/x-python",
   "name": "python",
   "nbconvert_exporter": "python",
   "pygments_lexer": "ipython3",
   "version": "3.11.0"
  },
  "orig_nbformat": 4,
  "vscode": {
   "interpreter": {
    "hash": "4eb5709b9856431ec8b3a6daee25074e117b7e0291e0b1d054d57b950b7d04e8"
   }
  }
 },
 "nbformat": 4,
 "nbformat_minor": 2
}
